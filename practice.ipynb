{
  "nbformat": 4,
  "nbformat_minor": 0,
  "metadata": {
    "colab": {
      "name": "Untitled0.ipynb",
      "provenance": [],
      "authorship_tag": "ABX9TyNJ4ouY4gIAsz8sHma9+VAT",
      "include_colab_link": true
    },
    "kernelspec": {
      "name": "python3",
      "display_name": "Python 3"
    }
  },
  "cells": [
    {
      "cell_type": "markdown",
      "metadata": {
        "id": "view-in-github",
        "colab_type": "text"
      },
      "source": [
        "<a href=\"https://colab.research.google.com/github/shahidmonowar/hello-world/blob/main/practice.ipynb\" target=\"_parent\"><img src=\"https://colab.research.google.com/assets/colab-badge.svg\" alt=\"Open In Colab\"/></a>"
      ]
    },
    {
      "cell_type": "code",
      "metadata": {
        "colab": {
          "base_uri": "https://localhost:8080/"
        },
        "id": "iactRmsU63fF",
        "outputId": "754b0c38-5e56-45c7-d117-4d8c725c7cb0"
      },
      "source": [
        "digit1=int(input(\"what is your number?\"))\r\n",
        "digit2=int(input(\"what is your number?\"))\r\n",
        "sum= digit1+digit2\r\n",
        "print(sum)"
      ],
      "execution_count": null,
      "outputs": [
        {
          "output_type": "stream",
          "text": [
            "what is your number?15\n",
            "what is your number?15\n",
            "30\n"
          ],
          "name": "stdout"
        }
      ]
    },
    {
      "cell_type": "code",
      "metadata": {
        "id": "RmGugUij20NS"
      },
      "source": [
        ""
      ],
      "execution_count": null,
      "outputs": []
    },
    {
      "cell_type": "markdown",
      "metadata": {
        "id": "K-JVezwz25Fm"
      },
      "source": [
        "**collection**"
      ]
    },
    {
      "cell_type": "code",
      "metadata": {
        "colab": {
          "base_uri": "https://localhost:8080/"
        },
        "id": "sojnzVSJ-1KG",
        "outputId": "8c97b0ad-1055-4897-fd83-e5c1907ef51a"
      },
      "source": [
        "#list\r\n",
        "mylist = [2,4,6,8,10]\r\n",
        "print(mylist[1])\r\n",
        "print(type(mylist))"
      ],
      "execution_count": 10,
      "outputs": [
        {
          "output_type": "stream",
          "text": [
            "4\n",
            "<class 'list'>\n"
          ],
          "name": "stdout"
        }
      ]
    },
    {
      "cell_type": "code",
      "metadata": {
        "id": "5gWTSPRD65YQ",
        "colab": {
          "base_uri": "https://localhost:8080/"
        },
        "outputId": "d564296b-f415-4c44-a15b-5e2ed86c7a71"
      },
      "source": [
        "#dictionary\r\n",
        "mydict={\"shahid\":500, \"monowar\":300}\r\n",
        "print(mydict[\"monowar\"])"
      ],
      "execution_count": 11,
      "outputs": [
        {
          "output_type": "stream",
          "text": [
            "300\n"
          ],
          "name": "stdout"
        }
      ]
    },
    {
      "cell_type": "code",
      "metadata": {
        "colab": {
          "base_uri": "https://localhost:8080/"
        },
        "id": "VHe1HtLI7qC-",
        "outputId": "722a9edf-1e24-46f5-c0d8-def54fc4848e"
      },
      "source": [
        "name = \"shahid\"\r\n",
        "id= 2737\r\n",
        "print(\"my name is %s and id no. is %s.\" %(name, id))"
      ],
      "execution_count": 6,
      "outputs": [
        {
          "output_type": "stream",
          "text": [
            "my name is shahid and id no. is 2737.\n"
          ],
          "name": "stdout"
        }
      ]
    },
    {
      "cell_type": "markdown",
      "metadata": {
        "id": "PqZC1mV_9oC8"
      },
      "source": [
        "#**Conditional statement**"
      ]
    },
    {
      "cell_type": "code",
      "metadata": {
        "colab": {
          "base_uri": "https://localhost:8080/"
        },
        "id": "5612fvVm8UQl",
        "outputId": "eaf87981-aa2d-404a-f77a-f4c2c38c428d"
      },
      "source": [
        "\r\n",
        "x=int(input())\r\n",
        "if x==10:\r\n",
        "  print(\"pass\")\r\n",
        "elif x>10:\r\n",
        "  print(\"more than 10\")\r\n",
        "else:\r\n",
        "  print(\"fail\")    "
      ],
      "execution_count": 7,
      "outputs": [
        {
          "output_type": "stream",
          "text": [
            "12\n",
            "more than 10\n"
          ],
          "name": "stdout"
        }
      ]
    },
    {
      "cell_type": "markdown",
      "metadata": {
        "id": "az7ZARTl97BY"
      },
      "source": [
        "#**Loop**"
      ]
    },
    {
      "cell_type": "code",
      "metadata": {
        "colab": {
          "base_uri": "https://localhost:8080/"
        },
        "id": "lI9k6B-G95zq",
        "outputId": "107ce172-b75b-488c-ec21-d67b3fdc75ad"
      },
      "source": [
        "for x in mylist:\r\n",
        "  print(x)\r\n"
      ],
      "execution_count": 12,
      "outputs": [
        {
          "output_type": "stream",
          "text": [
            "2\n",
            "4\n",
            "6\n",
            "8\n",
            "10\n"
          ],
          "name": "stdout"
        }
      ]
    },
    {
      "cell_type": "code",
      "metadata": {
        "colab": {
          "base_uri": "https://localhost:8080/"
        },
        "id": "f4ptSTfjAo5d",
        "outputId": "e1fde454-da81-4b11-b41b-c3bd976563bd"
      },
      "source": [
        "i=1\r\n",
        "while i<=10:\r\n",
        "  print(i)\r\n",
        "  i+=1"
      ],
      "execution_count": 14,
      "outputs": [
        {
          "output_type": "stream",
          "text": [
            "1\n",
            "2\n",
            "3\n",
            "4\n",
            "5\n",
            "6\n",
            "7\n",
            "8\n",
            "9\n",
            "10\n"
          ],
          "name": "stdout"
        }
      ]
    },
    {
      "cell_type": "markdown",
      "metadata": {
        "id": "9NcQ5BqQBKU-"
      },
      "source": [
        "#**Function**"
      ]
    },
    {
      "cell_type": "code",
      "metadata": {
        "id": "-Db9uqPcBGPq"
      },
      "source": [
        "def method():\r\n",
        "  print(\"function\")"
      ],
      "execution_count": 21,
      "outputs": []
    },
    {
      "cell_type": "code",
      "metadata": {
        "colab": {
          "base_uri": "https://localhost:8080/"
        },
        "id": "2RCVb_szBdM5",
        "outputId": "c3213d45-6c63-4dec-95a1-d3603fe19e8a"
      },
      "source": [
        "method()"
      ],
      "execution_count": 22,
      "outputs": [
        {
          "output_type": "stream",
          "text": [
            "function\n"
          ],
          "name": "stdout"
        }
      ]
    },
    {
      "cell_type": "code",
      "metadata": {
        "id": "BfTvbLBHDKEk"
      },
      "source": [
        "def math(x,y):\r\n",
        "  t= x*y\r\n",
        "  return t"
      ],
      "execution_count": 24,
      "outputs": []
    },
    {
      "cell_type": "code",
      "metadata": {
        "colab": {
          "base_uri": "https://localhost:8080/"
        },
        "id": "AgJiaf7JDdpL",
        "outputId": "bb54f2ee-9a7d-4860-c5dd-e52afa9e3a30"
      },
      "source": [
        "a=int(input(\"inter your value of a =\"))\r\n",
        "b=int (input(\"inter your value of b =\"))\r\n",
        "math(a,b)"
      ],
      "execution_count": 25,
      "outputs": [
        {
          "output_type": "stream",
          "text": [
            "inter your value of a =5\n",
            "inter your value of b =6\n"
          ],
          "name": "stdout"
        },
        {
          "output_type": "execute_result",
          "data": {
            "text/plain": [
              "30"
            ]
          },
          "metadata": {
            "tags": []
          },
          "execution_count": 25
        }
      ]
    },
    {
      "cell_type": "code",
      "metadata": {
        "colab": {
          "base_uri": "https://localhost:8080/"
        },
        "id": "leoBbmrzFATp",
        "outputId": "14119cac-3177-4af5-e963-bfe01ae18a1a"
      },
      "source": [
        "#use of build in function\r\n",
        "mylist = [2,4,6,8,10]\r\n",
        "mylist.pop()\r\n",
        "print(mylist)\r\n",
        "mylist.remove(4)\r\n",
        "print(mylist)\r\n",
        "\r\n"
      ],
      "execution_count": 31,
      "outputs": [
        {
          "output_type": "stream",
          "text": [
            "[2, 4, 6, 8]\n",
            "[2, 6, 8]\n"
          ],
          "name": "stdout"
        }
      ]
    },
    {
      "cell_type": "code",
      "metadata": {
        "colab": {
          "base_uri": "https://localhost:8080/"
        },
        "id": "9e8NExX2Iwi4",
        "outputId": "2703f9f7-7b47-47a3-c82a-a43a2988d63e"
      },
      "source": [
        "\r\n",
        "def print_square_value(numbers):\r\n",
        "  for number in numbers:\r\n",
        "    if number%2==0:\r\n",
        "      squared = number*number\r\n",
        "      print(squared)\r\n",
        "\r\n",
        "numbers = [1, 2, 3, 4]\r\n",
        "print_square_value(numbers)"
      ],
      "execution_count": 32,
      "outputs": [
        {
          "output_type": "stream",
          "text": [
            "4\n",
            "16\n"
          ],
          "name": "stdout"
        }
      ]
    }
  ]
}